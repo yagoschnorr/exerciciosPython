{
 "cells": [
  {
   "cell_type": "code",
   "execution_count": 2,
   "metadata": {},
   "outputs": [
    {
     "name": "stdout",
     "output_type": "stream",
     "text": [
      "Retangulo 1: \n",
      "Area: 100\n",
      "Perimeter: 40\n",
      "Is square: True\n",
      "\n",
      "Retangulo 2: \n",
      "Area: 1000\n",
      "Perimeter: 220\n",
      "Is square: False\n"
     ]
    }
   ],
   "source": [
    "# https://dailypythonprojects.substack.com/p/create-a-rectangle-class-oop\n",
    "\n",
    "class Rectangle:\n",
    "    def __init__(self, width, height):\n",
    "        self.__width = width\n",
    "        self.__height = height\n",
    "\n",
    "    def area(self):\n",
    "        return self.get_height()*self.get_width()\n",
    "\n",
    "    def perimeter(self):\n",
    "        return (2*self.get_width())+(2*self.get_height())\n",
    "\n",
    "    def is_square(self):\n",
    "        if self.get_width() == self.get_height():\n",
    "            return True\n",
    "        else:\n",
    "            return False\n",
    "\n",
    "    def get_width(self):\n",
    "        return self.__width\n",
    "\n",
    "    def set_width(self, width):\n",
    "        self.__width = width\n",
    "\n",
    "    def get_height(self):\n",
    "        return self.__height\n",
    "\n",
    "    def set_height(self, height):\n",
    "        self.__height = height\n",
    "\n",
    "if __name__ == '__main__':\n",
    "    rectangle1 = Rectangle(10,10)\n",
    "    print(\"Retangulo 1: \")\n",
    "    print(f\"Area: {rectangle1.area()}\")\n",
    "    print(f\"Perimeter: {rectangle1.perimeter()}\")\n",
    "    print(f\"Is square: {rectangle1.is_square()}\\n\")\n",
    "\n",
    "    rectangle2 = Rectangle(100,10)\n",
    "    print(\"Retangulo 2: \")\n",
    "    print(f\"Area: {rectangle2.area()}\")\n",
    "    print(f\"Perimeter: {rectangle2.perimeter()}\")\n",
    "    print(f\"Is square: {rectangle2.is_square()}\")"
   ]
  }
 ],
 "metadata": {
  "kernelspec": {
   "display_name": "Python 3",
   "language": "python",
   "name": "python3"
  },
  "language_info": {
   "codemirror_mode": {
    "name": "ipython",
    "version": 3
   },
   "file_extension": ".py",
   "mimetype": "text/x-python",
   "name": "python",
   "nbconvert_exporter": "python",
   "pygments_lexer": "ipython3",
   "version": "3.12.4"
  }
 },
 "nbformat": 4,
 "nbformat_minor": 2
}
