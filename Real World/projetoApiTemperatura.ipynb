{
  "nbformat": 4,
  "nbformat_minor": 0,
  "metadata": {
    "colab": {
      "provenance": []
    },
    "kernelspec": {
      "name": "python3",
      "display_name": "Python 3"
    },
    "language_info": {
      "name": "python"
    }
  },
  "cells": [
    {
      "cell_type": "code",
      "execution_count": 53,
      "metadata": {
        "id": "VZbdcYjLYo8T"
      },
      "outputs": [],
      "source": [
        "import requests"
      ]
    },
    {
      "cell_type": "code",
      "source": [
        "nome_cidade = input('Digite o nome da cidade (em ingles) que voce deseja saber a temperatura: ')\n",
        "nome_cidade = nome_cidade.title().strip()"
      ],
      "metadata": {
        "colab": {
          "base_uri": "https://localhost:8080/"
        },
        "id": "9tdTJhGJcDGZ",
        "outputId": "6d35e0c9-ef3c-40ae-ea73-057f7aa69e5f"
      },
      "execution_count": 54,
      "outputs": [
        {
          "name": "stdout",
          "output_type": "stream",
          "text": [
            "Digite o nome da cidade (em ingles) que voce deseja saber a temperatura: rovaniemi\n"
          ]
        }
      ]
    },
    {
      "cell_type": "code",
      "source": [
        "url = f'https://api.weatherstack.com/current?access_key=5796e9fe64fae3036f62337cba90c163&query={nome_cidade}'\n",
        "r = requests.get(url)\n",
        "r.status_code"
      ],
      "metadata": {
        "colab": {
          "base_uri": "https://localhost:8080/"
        },
        "id": "eM0SAzlmYuvo",
        "outputId": "d5c161fb-4cf8-4ab3-8665-3631b929ed9a"
      },
      "execution_count": 55,
      "outputs": [
        {
          "output_type": "execute_result",
          "data": {
            "text/plain": [
              "200"
            ]
          },
          "metadata": {},
          "execution_count": 55
        }
      ]
    },
    {
      "cell_type": "code",
      "source": [
        "temperatura_atual = r.json()['current']['temperature']\n",
        "estado = r.json()['location']['region']\n",
        "pais = r.json()['location']['country']"
      ],
      "metadata": {
        "id": "PdXh1CCma8lY"
      },
      "execution_count": 56,
      "outputs": []
    },
    {
      "cell_type": "code",
      "source": [
        "print(f'A temperatura em {nome_cidade}, {estado}, {pais} eh de {temperatura_atual}° graus celsius.')"
      ],
      "metadata": {
        "colab": {
          "base_uri": "https://localhost:8080/"
        },
        "id": "KUwyruMxa_I-",
        "outputId": "1ddf5ea5-446e-48fc-c024-113c96d840b7"
      },
      "execution_count": 57,
      "outputs": [
        {
          "output_type": "stream",
          "name": "stdout",
          "text": [
            "A temperatura em Rovaniemi, Lapland, Finland eh de -4° graus celsius.\n"
          ]
        }
      ]
    }
  ]
}