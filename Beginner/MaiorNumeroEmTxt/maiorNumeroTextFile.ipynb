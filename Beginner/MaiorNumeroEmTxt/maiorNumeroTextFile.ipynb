{
 "cells": [
  {
   "cell_type": "code",
   "execution_count": 3,
   "metadata": {},
   "outputs": [
    {
     "name": "stdout",
     "output_type": "stream",
     "text": [
      "O maior numero dentro do bloco de notas eh 10\n"
     ]
    }
   ],
   "source": [
    "# https://dailypythonprojects.substack.com/p/maximum-number-from-a-text-file\n",
    "\n",
    "bloco_notas = open(\"numbers.txt\", \"r\")\n",
    "\n",
    "maior = 0\n",
    "\n",
    "for linha in bloco_notas:\n",
    "    nova_linha = int(linha.strip())\n",
    "    if nova_linha >= maior:\n",
    "        maior = nova_linha\n",
    "\n",
    "print(f\"O maior numero dentro do bloco de notas eh {maior}\")\n",
    "\n",
    "bloco_notas.close()"
   ]
  }
 ],
 "metadata": {
  "kernelspec": {
   "display_name": "Python 3",
   "language": "python",
   "name": "python3"
  },
  "language_info": {
   "codemirror_mode": {
    "name": "ipython",
    "version": 3
   },
   "file_extension": ".py",
   "mimetype": "text/x-python",
   "name": "python",
   "nbconvert_exporter": "python",
   "pygments_lexer": "ipython3",
   "version": "3.12.4"
  }
 },
 "nbformat": 4,
 "nbformat_minor": 2
}
