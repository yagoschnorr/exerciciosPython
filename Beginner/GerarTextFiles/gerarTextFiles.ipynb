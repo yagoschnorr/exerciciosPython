{
 "cells": [
  {
   "cell_type": "code",
   "execution_count": 1,
   "metadata": {},
   "outputs": [],
   "source": [
    "import random\n",
    "import string\n",
    "\n",
    "# https://dailypythonprojects.substack.com/p/generate-text-files-with-random-names\n",
    "\n",
    "vetor_ascii = []\n",
    "nome_pasta = \"\"\n",
    "\n",
    "for letra in string.ascii_letters:\n",
    "    vetor_ascii.append(letra)\n",
    "\n",
    "for qnt in range(0,10):\n",
    "    i = random.randrange(0,len(vetor_ascii))\n",
    "    nome_pasta += vetor_ascii[i]\n",
    "\n",
    "criar = open(f\"{nome_pasta}.txt\", \"x\")\n",
    "\n",
    "criar.write(f\"{nome_pasta}\")\n",
    "\n",
    "criar.close()"
   ]
  }
 ],
 "metadata": {
  "kernelspec": {
   "display_name": "Python 3",
   "language": "python",
   "name": "python3"
  },
  "language_info": {
   "codemirror_mode": {
    "name": "ipython",
    "version": 3
   },
   "file_extension": ".py",
   "mimetype": "text/x-python",
   "name": "python",
   "nbconvert_exporter": "python",
   "pygments_lexer": "ipython3",
   "version": "3.12.4"
  }
 },
 "nbformat": 4,
 "nbformat_minor": 2
}
