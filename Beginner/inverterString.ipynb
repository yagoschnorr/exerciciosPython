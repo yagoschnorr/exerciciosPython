{
 "cells": [
  {
   "cell_type": "code",
   "execution_count": 1,
   "metadata": {},
   "outputs": [
    {
     "name": "stdout",
     "output_type": "stream",
     "text": [
      "A frase testando inverterString inversa eh: gnirtSretrevni odnatset\n",
      "gnirtSretrevni odnatset"
     ]
    }
   ],
   "source": [
    "# https://dailypythonprojects.substack.com/p/two-algorithms-to-reverse-a-string\n",
    "\n",
    "frase = input(\"Digite uma frase: \")\n",
    "\n",
    "print(f\"A frase {frase} inversa eh: {frase[::-1]}\")\n",
    "\n",
    "for i in range(len(frase)-1,-1,-1):\n",
    "    print(frase[i], end=\"\")"
   ]
  }
 ],
 "metadata": {
  "kernelspec": {
   "display_name": "Python 3",
   "language": "python",
   "name": "python3"
  },
  "language_info": {
   "codemirror_mode": {
    "name": "ipython",
    "version": 3
   },
   "file_extension": ".py",
   "mimetype": "text/x-python",
   "name": "python",
   "nbconvert_exporter": "python",
   "pygments_lexer": "ipython3",
   "version": "3.12.4"
  }
 },
 "nbformat": 4,
 "nbformat_minor": 2
}
