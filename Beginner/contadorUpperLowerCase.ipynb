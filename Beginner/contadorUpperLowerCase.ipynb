{
 "cells": [
  {
   "cell_type": "code",
   "execution_count": 2,
   "metadata": {},
   "outputs": [
    {
     "name": "stdout",
     "output_type": "stream",
     "text": [
      "O numero de upper case foi 9\n",
      "O numero de lower case foi 22\n"
     ]
    }
   ],
   "source": [
    "from string import ascii_letters\n",
    "\n",
    "# https://dailypythonprojects.substack.com/p/count-uppercase-and-lowercase-letters\n",
    "\n",
    "text = \"This Sentence Has Mixed CASE Letters!\"\n",
    "\n",
    "contador_upper_case = 0\n",
    "contador_lower_case = 0\n",
    "\n",
    "for letra in text:\n",
    "    if letra in ascii_letters:\n",
    "        if letra == letra.upper():\n",
    "            contador_upper_case += 1\n",
    "        elif letra == letra.lower():\n",
    "            contador_lower_case += 1\n",
    "\n",
    "print(f\"O numero de upper case foi {contador_upper_case}\")\n",
    "print(f\"O numero de lower case foi {contador_lower_case}\")"
   ]
  }
 ],
 "metadata": {
  "kernelspec": {
   "display_name": "Python 3",
   "language": "python",
   "name": "python3"
  },
  "language_info": {
   "codemirror_mode": {
    "name": "ipython",
    "version": 3
   },
   "file_extension": ".py",
   "mimetype": "text/x-python",
   "name": "python",
   "nbconvert_exporter": "python",
   "pygments_lexer": "ipython3",
   "version": "3.12.4"
  }
 },
 "nbformat": 4,
 "nbformat_minor": 2
}
