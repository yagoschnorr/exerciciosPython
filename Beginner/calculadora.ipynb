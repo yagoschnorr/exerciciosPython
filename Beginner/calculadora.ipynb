{
 "cells": [
  {
   "cell_type": "code",
   "execution_count": 2,
   "metadata": {},
   "outputs": [
    {
     "name": "stdout",
     "output_type": "stream",
     "text": [
      "O resultado da multiplicacao eh: 32.0\n"
     ]
    }
   ],
   "source": [
    "# https://dailypythonprojects.substack.com/p/simple-console-calculator-add-subtract\n",
    "\n",
    "def somar(a, b):\n",
    "    return a+b\n",
    "\n",
    "def subtrair(a, b):\n",
    "    return a-b\n",
    "\n",
    "def multiplicar(a, b):\n",
    "    return a*b\n",
    "\n",
    "def dividir(a, b):\n",
    "    return a/b\n",
    "\n",
    "def menu():\n",
    "    a = float(input(\"Digite o primeiro numero: \"))\n",
    "    b = float(input(\"Digite o segundo numero: \"))\n",
    "    operador = input(\"Digite o operador (+, -, *, /): \")\n",
    "\n",
    "    if operador == \"+\":\n",
    "        print(f\"O resultado da soma eh: {somar(a, b)}\")\n",
    "\n",
    "    elif operador == \"-\":\n",
    "        print(f\"O resultado da subtracao eh: {subtrair(a, b)}\")\n",
    "\n",
    "    elif operador == \"*\":\n",
    "        print(f\"O resultado da multiplicacao eh: {multiplicar(a, b)}\")\n",
    "\n",
    "    elif operador == \"/\":\n",
    "        print(f\"O resultado da divisao eh: {dividir(a, b)}\")\n",
    "\n",
    "    else:\n",
    "        print(\"Voce nao digitou um operador permitido.\")\n",
    "\n",
    "menu()"
   ]
  }
 ],
 "metadata": {
  "kernelspec": {
   "display_name": "Python 3",
   "language": "python",
   "name": "python3"
  },
  "language_info": {
   "codemirror_mode": {
    "name": "ipython",
    "version": 3
   },
   "file_extension": ".py",
   "mimetype": "text/x-python",
   "name": "python",
   "nbconvert_exporter": "python",
   "pygments_lexer": "ipython3",
   "version": "3.12.4"
  }
 },
 "nbformat": 4,
 "nbformat_minor": 2
}
