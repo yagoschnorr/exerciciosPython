{
 "cells": [
  {
   "cell_type": "code",
   "execution_count": 1,
   "metadata": {},
   "outputs": [
    {
     "name": "stdout",
     "output_type": "stream",
     "text": [
      "[('a', 0), ('b', 1), ('c', 2)]\n"
     ]
    }
   ],
   "source": [
    "# https://dailypythonprojects.substack.com/p/coding-exercise-11\n",
    "\n",
    "lista = ['a', 'b', 'c']\n",
    "\n",
    "lista_tuplas = []\n",
    "\n",
    "for letra in lista:\n",
    "    for i in range(0,len(lista)):\n",
    "        if lista[i] == letra:\n",
    "            tupla = (letra, i)\n",
    "            lista_tuplas.append(tupla)\n",
    "\n",
    "print(lista_tuplas)"
   ]
  }
 ],
 "metadata": {
  "kernelspec": {
   "display_name": "Python 3",
   "language": "python",
   "name": "python3"
  },
  "language_info": {
   "codemirror_mode": {
    "name": "ipython",
    "version": 3
   },
   "file_extension": ".py",
   "mimetype": "text/x-python",
   "name": "python",
   "nbconvert_exporter": "python",
   "pygments_lexer": "ipython3",
   "version": "3.12.4"
  }
 },
 "nbformat": 4,
 "nbformat_minor": 2
}
