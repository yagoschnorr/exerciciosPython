{
 "cells": [
  {
   "cell_type": "code",
   "execution_count": 1,
   "metadata": {},
   "outputs": [
    {
     "name": "stdout",
     "output_type": "stream",
     "text": [
      "A soma de todos os numeros dentro do vetor eh: 66.0\n"
     ]
    }
   ],
   "source": [
    "# https://dailypythonprojects.substack.com/p/spot-the-error-1\n",
    "\n",
    "def menu():\n",
    "    vetor_numeros = []\n",
    "    tamanho_vetor = int(input(\"Quantos numeros voce quer por no vetor? \"))\n",
    "\n",
    "    for i in range(0,tamanho_vetor):\n",
    "        numero = float(input(\"Digite um numero para adicionar no vetor: \"))\n",
    "\n",
    "        vetor_numeros.append(numero)\n",
    "\n",
    "    print(f\"A soma de todos os numeros dentro do vetor eh: {sum(vetor_numeros)}\")\n",
    "\n",
    "menu()"
   ]
  }
 ],
 "metadata": {
  "kernelspec": {
   "display_name": "Python 3",
   "language": "python",
   "name": "python3"
  },
  "language_info": {
   "codemirror_mode": {
    "name": "ipython",
    "version": 3
   },
   "file_extension": ".py",
   "mimetype": "text/x-python",
   "name": "python",
   "nbconvert_exporter": "python",
   "pygments_lexer": "ipython3",
   "version": "3.12.4"
  }
 },
 "nbformat": 4,
 "nbformat_minor": 2
}
