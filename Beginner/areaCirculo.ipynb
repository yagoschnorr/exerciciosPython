{
 "cells": [
  {
   "cell_type": "code",
   "execution_count": 2,
   "metadata": {},
   "outputs": [
    {
     "name": "stdout",
     "output_type": "stream",
     "text": [
      "A area do circulo de raio 22.0 eh 1520.486\n"
     ]
    }
   ],
   "source": [
    "# https://dailypythonprojects.substack.com/p/calculate-the-area-of-a-circle-with\n",
    "\n",
    "def calcular_area():\n",
    "    raio = float(input(\"Insira o raio do circulo: \"))\n",
    "    area = 3.1415*(raio**2)\n",
    "\n",
    "    print(f\"A area do circulo de raio {raio} eh {area}\")\n",
    "\n",
    "calcular_area()"
   ]
  }
 ],
 "metadata": {
  "kernelspec": {
   "display_name": "Python 3",
   "language": "python",
   "name": "python3"
  },
  "language_info": {
   "codemirror_mode": {
    "name": "ipython",
    "version": 3
   },
   "file_extension": ".py",
   "mimetype": "text/x-python",
   "name": "python",
   "nbconvert_exporter": "python",
   "pygments_lexer": "ipython3",
   "version": "3.12.4"
  }
 },
 "nbformat": 4,
 "nbformat_minor": 2
}
