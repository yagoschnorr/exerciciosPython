{
 "cells": [
  {
   "cell_type": "code",
   "execution_count": 1,
   "metadata": {},
   "outputs": [
    {
     "name": "stdout",
     "output_type": "stream",
     "text": [
      "O numero 10.0 eh positivo\n",
      "O numero é 0\n",
      "O numero -1 eh negativo\n"
     ]
    }
   ],
   "source": [
    "# https://dailypythonprojects.substack.com/p/check-if-number-is-negative-or-positive\n",
    "\n",
    "def checar_numero(num):\n",
    "    if num > 0:\n",
    "        print(f\"O numero {num} eh positivo\")\n",
    "    elif num == 0:\n",
    "        print(\"O numero é 0\")\n",
    "    else:\n",
    "        print(f\"O numero {num} eh negativo\")\n",
    "\n",
    "def menu():\n",
    "    numero = float(input(\"Digite um numero negativo ou positivo: \"))\n",
    "    checar_numero(numero)\n",
    "\n",
    "menu()\n",
    "checar_numero(0)\n",
    "checar_numero(-1)"
   ]
  }
 ],
 "metadata": {
  "kernelspec": {
   "display_name": "Python 3",
   "language": "python",
   "name": "python3"
  },
  "language_info": {
   "codemirror_mode": {
    "name": "ipython",
    "version": 3
   },
   "file_extension": ".py",
   "mimetype": "text/x-python",
   "name": "python",
   "nbconvert_exporter": "python",
   "pygments_lexer": "ipython3",
   "version": "3.12.4"
  }
 },
 "nbformat": 4,
 "nbformat_minor": 2
}
