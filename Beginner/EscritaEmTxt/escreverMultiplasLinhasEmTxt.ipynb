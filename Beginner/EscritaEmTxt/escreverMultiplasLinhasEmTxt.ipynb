{
 "cells": [
  {
   "cell_type": "code",
   "execution_count": 2,
   "metadata": {},
   "outputs": [
    {
     "name": "stdout",
     "output_type": "stream",
     "text": [
      "As sentencas foram salvas em sentencas.txt\n"
     ]
    }
   ],
   "source": [
    "# https://dailypythonprojects.substack.com/p/level-2-intermediate-beginner\n",
    "\n",
    "arquivo = open(\"sentencas.txt\", \"a\")\n",
    "\n",
    "for i in range(0,3):\n",
    "    sentenca = input(f\"Digite a sentenca {i+1}: \")\n",
    "\n",
    "    arquivo.write(f\"{sentenca}\\n-------\\n\")\n",
    "\n",
    "print(\"As sentencas foram salvas em sentencas.txt\")"
   ]
  }
 ],
 "metadata": {
  "kernelspec": {
   "display_name": "Python 3",
   "language": "python",
   "name": "python3"
  },
  "language_info": {
   "codemirror_mode": {
    "name": "ipython",
    "version": 3
   },
   "file_extension": ".py",
   "mimetype": "text/x-python",
   "name": "python",
   "nbconvert_exporter": "python",
   "pygments_lexer": "ipython3",
   "version": "3.12.4"
  }
 },
 "nbformat": 4,
 "nbformat_minor": 2
}
