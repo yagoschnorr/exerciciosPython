{
 "cells": [
  {
   "cell_type": "code",
   "execution_count": 1,
   "metadata": {},
   "outputs": [
    {
     "name": "stdout",
     "output_type": "stream",
     "text": [
      "What is the capital of France?\n",
      "1. Berlin\n",
      "2. Paris\n",
      "3. Madrid\n",
      "4. Rome\n",
      "Resposta correta!\n",
      "Which planet is known as the Red Planet?\n",
      "1. Earth\n",
      "2. Venus\n",
      "3. Mars\n",
      "4. Jupiter\n",
      "Resposta incorreta, a resposta certa era a 3.Jupiter!\n",
      "What is the chemical symbol for water?\n",
      "1. H2O\n",
      "2. O2\n",
      "3. CO2\n",
      "4. H2\n",
      "Resposta correta!\n",
      "\n",
      "O numero de respostas corretas foi 2!\n"
     ]
    }
   ],
   "source": [
    "# https://dailypythonprojects.substack.com/p/build-a-countdown-timer-with-python-ec8\n",
    "\n",
    "def questoes():\n",
    "    quiz_questions = [\n",
    "        (\"What is the capital of France?\", [\"Berlin\", \"Paris\", \"Madrid\", \"Rome\"], 2),\n",
    "        (\"Which planet is known as the Red Planet?\", [\"Earth\", \"Venus\", \"Mars\", \"Jupiter\"], 3),\n",
    "        (\"What is the chemical symbol for water?\", [\"H2O\", \"O2\", \"CO2\", \"H2\"], 1),\n",
    "    ]\n",
    "    contador = 0\n",
    "    resposta = []\n",
    "\n",
    "    for i in range(0, len(quiz_questions)):\n",
    "        for questao in quiz_questions[i][0]:\n",
    "            print(questao, end=\"\")\n",
    "        print()\n",
    "        j=1\n",
    "        for letras in quiz_questions[i][1]:\n",
    "            print(f\"{j}. {letras}\")\n",
    "            j+=1\n",
    "\n",
    "        resposta.append(int(input('Digite a resposta (1/2/3/4): ')))\n",
    "\n",
    "        if resposta[i] == quiz_questions[i][2]:\n",
    "            print(\"Resposta correta!\")\n",
    "            contador += 1\n",
    "        else:\n",
    "            for letra in quiz_questions[i][1]:\n",
    "                if quiz_questions[i][1].index(letra) == quiz_questions[i][2]:\n",
    "                    print(f\"Resposta incorreta, a resposta certa era a {quiz_questions[i][2]}.{letra}!\")\n",
    "\n",
    "    print(f\"\\nO numero de respostas corretas foi {contador}!\")\n",
    "\n",
    "questoes()"
   ]
  }
 ],
 "metadata": {
  "kernelspec": {
   "display_name": "Python 3",
   "language": "python",
   "name": "python3"
  },
  "language_info": {
   "codemirror_mode": {
    "name": "ipython",
    "version": 3
   },
   "file_extension": ".py",
   "mimetype": "text/x-python",
   "name": "python",
   "nbconvert_exporter": "python",
   "pygments_lexer": "ipython3",
   "version": "3.12.4"
  }
 },
 "nbformat": 4,
 "nbformat_minor": 2
}
