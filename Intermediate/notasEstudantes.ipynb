{
 "cells": [
  {
   "cell_type": "code",
   "execution_count": 1,
   "metadata": {},
   "outputs": [
    {
     "name": "stdout",
     "output_type": "stream",
     "text": [
      "Menu:\n",
      "1. Adicione um estudante e sua nota\n",
      "2. Ver todos os estudantes e suas respectivas notas\n",
      "3. Sair\n",
      "\n",
      "Nenhum estudante foi adicionado ainda!\n",
      "\n",
      "Menu:\n",
      "1. Adicione um estudante e sua nota\n",
      "2. Ver todos os estudantes e suas respectivas notas\n",
      "3. Sair\n",
      "\n",
      "A nota de estudante1 foi adicionada!\n",
      "\n",
      "Menu:\n",
      "1. Adicione um estudante e sua nota\n",
      "2. Ver todos os estudantes e suas respectivas notas\n",
      "3. Sair\n",
      "\n",
      "A nota de estudante2 foi adicionada!\n",
      "\n",
      "Menu:\n",
      "1. Adicione um estudante e sua nota\n",
      "2. Ver todos os estudantes e suas respectivas notas\n",
      "3. Sair\n",
      "-----------------\n",
      "IMPRIMINDO NOTAS:\n",
      "A nota de estudante1 foi 10\n",
      "A nota de estudante2 foi 8\n",
      "-----------------\n",
      "Menu:\n",
      "1. Adicione um estudante e sua nota\n",
      "2. Ver todos os estudantes e suas respectivas notas\n",
      "3. Sair\n",
      "Voce finalizou o programa!\n"
     ]
    }
   ],
   "source": [
    "# https://dailypythonprojects.substack.com/p/student-grades-tracker\n",
    "\n",
    "grades = {}\n",
    "\n",
    "def run():\n",
    "    while True:\n",
    "        print(\"Menu:\")\n",
    "        print(\"1. Adicione um estudante e sua nota\")\n",
    "        print(\"2. Ver todos os estudantes e suas respectivas notas\")\n",
    "        print(\"3. Sair\")\n",
    "        escolha = int(input(\"Escolha uma opcao (1/2/3): \"))\n",
    "\n",
    "        if escolha == 1:\n",
    "            adicionar_estudante()\n",
    "        elif escolha == 2:\n",
    "            imprimir_notas()\n",
    "        elif escolha == 3:\n",
    "            print(\"Voce finalizou o programa!\")\n",
    "            break\n",
    "        else:\n",
    "            print(\"Voce digitou uma opcao invalida!\")\n",
    "\n",
    "def adicionar_estudante():\n",
    "    nome = input(\"Digite o nome do estudante: \")\n",
    "    nota = input(\"Digite a nota do estudante: \")\n",
    "    grades.update({nome: nota})\n",
    "    print(f\"\\nA nota de {nome} foi adicionada!\\n\")\n",
    "\n",
    "def imprimir_notas():\n",
    "    if grades == {}:\n",
    "        print(\"\\nNenhum estudante foi adicionado ainda!\\n\")\n",
    "    else:\n",
    "        print(\"-----------------\")\n",
    "        print(\"IMPRIMINDO NOTAS:\")\n",
    "        for nome in grades:\n",
    "            print(f\"A nota de {nome} foi {grades[nome]}\")\n",
    "        print(\"-----------------\")\n",
    "\n",
    "run()"
   ]
  }
 ],
 "metadata": {
  "kernelspec": {
   "display_name": "Python 3",
   "language": "python",
   "name": "python3"
  },
  "language_info": {
   "codemirror_mode": {
    "name": "ipython",
    "version": 3
   },
   "file_extension": ".py",
   "mimetype": "text/x-python",
   "name": "python",
   "nbconvert_exporter": "python",
   "pygments_lexer": "ipython3",
   "version": "3.12.4"
  }
 },
 "nbformat": 4,
 "nbformat_minor": 2
}
